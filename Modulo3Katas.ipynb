{
 "cells": [
  {
   "cell_type": "markdown",
   "metadata": {},
   "source": [
    "# Ejercicio 1"
   ]
  },
  {
   "cell_type": "code",
   "execution_count": 12,
   "metadata": {},
   "outputs": [
    {
     "name": "stdout",
     "output_type": "stream",
     "text": [
      "¡Alerta! Un asteroide se acerca peligrosamente rápido, ¡a 49 km/s!\n"
     ]
    }
   ],
   "source": [
    "ast = 49\n",
    "if ast > 25:\n",
    "    print(\"¡Alerta! Un asteroide se acerca peligrosamente rápido, ¡a \"+ str(ast)+\" km/s!\")\n",
    "else:\n",
    "    print(\"¡No hay de que preocuparse! Todo en orden allá arriba.\")"
   ]
  },
  {
   "cell_type": "markdown",
   "metadata": {},
   "source": [
    "# Ejercicio 2"
   ]
  },
  {
   "cell_type": "code",
   "execution_count": 17,
   "metadata": {},
   "outputs": [
    {
     "name": "stdout",
     "output_type": "stream",
     "text": [
      "¡Lo siento! Esta noche no hay estrellas fugaces que observar.\n"
     ]
    }
   ],
   "source": [
    "ast = 19\n",
    "if ast > 20:\n",
    "    print(\"¡Hey! Hay un lindo resplandor en el cielo, ¡mira al cielo!\")\n",
    "elif ast == 20:\n",
    "    print(\"¡Hey! Hay un lindo resplandor en el cielo, ¡mira al cielo!\")\n",
    "else:\n",
    "    print(\"¡Lo siento! Esta noche no hay estrellas fugaces que observar.\")"
   ]
  },
  {
   "cell_type": "markdown",
   "metadata": {},
   "source": [
    "# Ejercicio 3"
   ]
  },
  {
   "cell_type": "code",
   "execution_count": 3,
   "metadata": {},
   "outputs": [
    {
     "name": "stdout",
     "output_type": "stream",
     "text": [
      "¡Lo siento! Esta noche no hay estrellas fugaces que observar.\n"
     ]
    }
   ],
   "source": [
    "speed_ast = 19\n",
    "size_ast = 20\n",
    "if speed_ast > 25 or size_ast > 25:\n",
    "    print('¡Alerta, Un asteroide muy peligroso viene hacia la Tierra!')\n",
    "elif speed_ast >= 20 and size_ast <= 25:\n",
    "    print(\"¡Hey! Hay un lindo resplandor en el cielo, ¡mira al cielo!\")\n",
    "elif size_ast < 25:\n",
    "    print(\"¡Lo siento! Esta noche no hay estrellas fugaces que observar.\")\n",
    "else:\n",
    "    print(\"¡Lo siento! Esta noche no hay estrellas fugaces que observar.\")"
   ]
  }
 ],
 "metadata": {
  "interpreter": {
   "hash": "8ed06d07b9ff369db6ed7b53447be18709da67cd911d838d72fee7fecb26667a"
  },
  "kernelspec": {
   "display_name": "Python 3.10.2 64-bit",
   "language": "python",
   "name": "python3"
  },
  "language_info": {
   "codemirror_mode": {
    "name": "ipython",
    "version": 3
   },
   "file_extension": ".py",
   "mimetype": "text/x-python",
   "name": "python",
   "nbconvert_exporter": "python",
   "pygments_lexer": "ipython3",
   "version": "3.10.2"
  },
  "orig_nbformat": 4
 },
 "nbformat": 4,
 "nbformat_minor": 2
}
